{
 "cells": [
  {
   "cell_type": "markdown",
   "metadata": {},
   "source": [
    "Ejercicios de Java - Estructuras Cíclicas\n",
    "1. Ciclos For: La recepción de los Ciclos For es por mucho la mas sencilla de interpretar ya que en la misma estructura definimos el inicio, el final y el paso que llevará a cabo el iterador en el ciclo\n",
    "\n",
    "```java\n",
    "for(int i = [inicio]; i [operador][fin]; i[paso]){\n",
    "}\n",
    "```"
   ]
  },
  {
   "cell_type": "code",
   "execution_count": null,
   "metadata": {
    "vscode": {
     "languageId": "java"
    }
   },
   "outputs": [],
   "source": [
    "//Números del 1 al 10 usando for\n",
    "for(int i = 1; i <= 10; i ++){\n",
    "    System.out.println(i);\n",
    "}"
   ]
  },
  {
   "cell_type": "code",
   "execution_count": null,
   "metadata": {
    "vscode": {
     "languageId": "java"
    }
   },
   "outputs": [],
   "source": []
  }
 ],
 "metadata": {
  "language_info": {
   "name": "python"
  },
  "orig_nbformat": 4
 },
 "nbformat": 4,
 "nbformat_minor": 2
}
